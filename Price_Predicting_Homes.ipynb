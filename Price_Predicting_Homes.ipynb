{
  "cells": [
    {
      "cell_type": "code",
      "execution_count": 1,
      "metadata": {
        "deletable": false,
        "editable": false,
        "nbgrader": {
          "cell_type": "code",
          "checksum": "53464cc768e269c070c42bd152223bbc",
          "grade": false,
          "grade_id": "cell-99b74e54a46dec38",
          "locked": true,
          "schema_version": 3,
          "solution": false,
          "task": false
        },
        "id": "dCYXPatsPWGx"
      },
      "outputs": [],
      "source": [
        "%%capture\n",
        "# If you're in Colab...\n",
        "import sys\n",
        "if 'google.colab' in sys.modules:\n",
        "    !pip install category_encoders==2.*"
      ]
    },
    {
      "cell_type": "markdown",
      "source": [
        "Above installs Category_encoders whcih we will need for this repositroy."
      ],
      "metadata": {
        "id": "iM7Y4A3WzW2a"
      }
    },
    {
      "cell_type": "markdown",
      "metadata": {
        "deletable": false,
        "editable": false,
        "nbgrader": {
          "cell_type": "markdown",
          "checksum": "8ffcbfcc12357213a3be26710877c891",
          "grade": false,
          "grade_id": "cell-6c3b25a3a9ca2f0a",
          "locked": true,
          "schema_version": 3,
          "solution": false,
          "task": false
        },
        "id": "Ppye0xBSPWGy"
      },
      "source": [
        "\n",
        "# Predicting Home Prices in Iowa\n",
        "\n",
        "Building a regression model that can predict the sale price of a house in Aimes, Iowa."
      ]
    },
    {
      "cell_type": "code",
      "source": [
        "# Imports I will be using\n",
        "import pandas as pd\n",
        "import numpy as np\n",
        "import matplotlib.pyplot as plt\n",
        "import seaborn as sns\n",
        "from numpy.ma.core import mean\n",
        "from category_encoders import OneHotEncoder\n",
        "from sklearn.linear_model import LinearRegression, Ridge\n",
        "from sklearn.metrics import mean_absolute_error, mean_squared_error, r2_score\n",
        "from sklearn.impute import SimpleImputer\n",
        "from sklearn.pipeline import make_pipeline\n",
        "from sklearn.preprocessing import StandardScaler"
      ],
      "metadata": {
        "id": "xlOxqsWFmF-M"
      },
      "execution_count": 2,
      "outputs": []
    },
    {
      "cell_type": "code",
      "source": [
        "# Running the data set through a function\n",
        "def wrangle(filepath):\n",
        "  # Sets the index of DF to the year a home was sold and sets data as a datetime type\n",
        "  df = pd.read_csv(filepath, parse_dates=['Yr_Sold'], index_col='Yr_Sold')\n",
        "\n",
        "  # Creates a new column in DF\n",
        "  df['Total_Baths'] = (df['Half_Bath'] + df['Bsmt_Full_Bath'] + df['Full_Bath'] +df['Bsmt_Half_Bath']).astype(int)\n",
        "\n",
        "  # one hot encoding for the columns to one column\n",
        "  building_type = ['1Fam','TwnhsE','Duplex','Twnhs','2fmCon']\n",
        "  for b in building_type:\n",
        "    df[b] = df['Bldg_Type'].str.contains(b).astype(int)\n",
        "\n",
        "  # Creating binary columns\n",
        "  df['Central_Air'] = df['Central_Air'].apply(lambda x: 1 if x ==\"Y\" else 0)\n",
        "  df['Utilities'] = df['Utilities'].apply(lambda x: 1 if x ==\"AllPub\" else 0)\n",
        "  df['Exter_Cond'] = df['Exter_Cond'].apply(lambda x: 1 if x ==\"TA\" else 0)\n",
        "  df['Condition_1'] = df['Condition_1'].apply(lambda x: 1 if x ==\"Norm\" else 0)\n",
        "  df['Condition_2'] = df['Condition_2'].apply(lambda x: 1 if x ==\"Norm\" else 0)\n",
        "\n",
        "  # dropping baths and other high cardinality categorical columns\n",
        "  df = df.drop(columns = ['Half_Bath','Bsmt_Full_Bath','Full_Bath','Bsmt_Half_Bath','Bldg_Type','Year_Remod/Add'])\n",
        "\n",
        "  return df\n",
        "\n",
        "\n",
        "filepath = 'https://drive.google.com/uc?export=download&id=1tmYLQ1RwIgjI_d66PWnlXU-5D_VxtiQc'"
      ],
      "metadata": {
        "id": "EGWuWMrkEuo-"
      },
      "execution_count": 3,
      "outputs": []
    },
    {
      "cell_type": "code",
      "execution_count": 4,
      "metadata": {
        "colab": {
          "base_uri": "https://localhost:8080/",
          "height": 374
        },
        "deletable": false,
        "id": "7ptoRG1lu7H4",
        "nbgrader": {
          "cell_type": "code",
          "checksum": "971bae389cac7fcc8b6b743b55faaa50",
          "grade": false,
          "grade_id": "cell-f40876cb08c183d1",
          "locked": false,
          "schema_version": 3,
          "solution": true,
          "task": false
        },
        "outputId": "59796dcb-3da2-478c-c9f0-cff864f93732"
      },
      "outputs": [
        {
          "output_type": "execute_result",
          "data": {
            "text/plain": [
              "            1st_Flr_SF  Bedroom_AbvGr  Central_Air  Condition_1  Condition_2  \\\n",
              "Yr_Sold                                                                        \n",
              "2009-01-01         882              2            1            1            1   \n",
              "2009-01-01        1434              4            1            1            1   \n",
              "2009-01-01        2000              4            1            1            1   \n",
              "2009-01-01         945              3            1            1            1   \n",
              "2009-01-01        1008              4            1            1            1   \n",
              "\n",
              "           Electrical  Exter_Cond Exter_Qual Exterior_1st Exterior_2nd  ...  \\\n",
              "Yr_Sold                                                                 ...   \n",
              "2009-01-01      SBrkr           1         TA      MetalSd      MetalSd  ...   \n",
              "2009-01-01      SBrkr           1         TA      Plywood      Plywood  ...   \n",
              "2009-01-01      SBrkr           1         Gd      Plywood      Wd Sdng  ...   \n",
              "2009-01-01      SBrkr           1         TA      VinylSd      VinylSd  ...   \n",
              "2009-01-01      SBrkr           1         Gd      VinylSd      VinylSd  ...   \n",
              "\n",
              "           Street TotRms_AbvGrd  Utilities Year_Built Total_Baths 1Fam  \\\n",
              "Yr_Sold                                                                  \n",
              "2009-01-01   Pave             5          1       1956           1    1   \n",
              "2009-01-01   Pave             7          1       1974           3    1   \n",
              "2009-01-01   Pave             9          1       1972           4    1   \n",
              "2009-01-01   Pave             7          1       1997           3    1   \n",
              "2009-01-01   Pave             9          1       2003           3    1   \n",
              "\n",
              "            TwnhsE Duplex Twnhs 2fmCon  \n",
              "Yr_Sold                                 \n",
              "2009-01-01       0      0     0      0  \n",
              "2009-01-01       0      0     0      0  \n",
              "2009-01-01       0      0     0      0  \n",
              "2009-01-01       0      0     0      0  \n",
              "2009-01-01       0      0     0      0  \n",
              "\n",
              "[5 rows x 46 columns]"
            ],
            "text/html": [
              "\n",
              "  <div id=\"df-0c454eb6-1d2a-47a0-b079-c0999418c4ab\" class=\"colab-df-container\">\n",
              "    <div>\n",
              "<style scoped>\n",
              "    .dataframe tbody tr th:only-of-type {\n",
              "        vertical-align: middle;\n",
              "    }\n",
              "\n",
              "    .dataframe tbody tr th {\n",
              "        vertical-align: top;\n",
              "    }\n",
              "\n",
              "    .dataframe thead th {\n",
              "        text-align: right;\n",
              "    }\n",
              "</style>\n",
              "<table border=\"1\" class=\"dataframe\">\n",
              "  <thead>\n",
              "    <tr style=\"text-align: right;\">\n",
              "      <th></th>\n",
              "      <th>1st_Flr_SF</th>\n",
              "      <th>Bedroom_AbvGr</th>\n",
              "      <th>Central_Air</th>\n",
              "      <th>Condition_1</th>\n",
              "      <th>Condition_2</th>\n",
              "      <th>Electrical</th>\n",
              "      <th>Exter_Cond</th>\n",
              "      <th>Exter_Qual</th>\n",
              "      <th>Exterior_1st</th>\n",
              "      <th>Exterior_2nd</th>\n",
              "      <th>...</th>\n",
              "      <th>Street</th>\n",
              "      <th>TotRms_AbvGrd</th>\n",
              "      <th>Utilities</th>\n",
              "      <th>Year_Built</th>\n",
              "      <th>Total_Baths</th>\n",
              "      <th>1Fam</th>\n",
              "      <th>TwnhsE</th>\n",
              "      <th>Duplex</th>\n",
              "      <th>Twnhs</th>\n",
              "      <th>2fmCon</th>\n",
              "    </tr>\n",
              "    <tr>\n",
              "      <th>Yr_Sold</th>\n",
              "      <th></th>\n",
              "      <th></th>\n",
              "      <th></th>\n",
              "      <th></th>\n",
              "      <th></th>\n",
              "      <th></th>\n",
              "      <th></th>\n",
              "      <th></th>\n",
              "      <th></th>\n",
              "      <th></th>\n",
              "      <th></th>\n",
              "      <th></th>\n",
              "      <th></th>\n",
              "      <th></th>\n",
              "      <th></th>\n",
              "      <th></th>\n",
              "      <th></th>\n",
              "      <th></th>\n",
              "      <th></th>\n",
              "      <th></th>\n",
              "      <th></th>\n",
              "    </tr>\n",
              "  </thead>\n",
              "  <tbody>\n",
              "    <tr>\n",
              "      <th>2009-01-01</th>\n",
              "      <td>882</td>\n",
              "      <td>2</td>\n",
              "      <td>1</td>\n",
              "      <td>1</td>\n",
              "      <td>1</td>\n",
              "      <td>SBrkr</td>\n",
              "      <td>1</td>\n",
              "      <td>TA</td>\n",
              "      <td>MetalSd</td>\n",
              "      <td>MetalSd</td>\n",
              "      <td>...</td>\n",
              "      <td>Pave</td>\n",
              "      <td>5</td>\n",
              "      <td>1</td>\n",
              "      <td>1956</td>\n",
              "      <td>1</td>\n",
              "      <td>1</td>\n",
              "      <td>0</td>\n",
              "      <td>0</td>\n",
              "      <td>0</td>\n",
              "      <td>0</td>\n",
              "    </tr>\n",
              "    <tr>\n",
              "      <th>2009-01-01</th>\n",
              "      <td>1434</td>\n",
              "      <td>4</td>\n",
              "      <td>1</td>\n",
              "      <td>1</td>\n",
              "      <td>1</td>\n",
              "      <td>SBrkr</td>\n",
              "      <td>1</td>\n",
              "      <td>TA</td>\n",
              "      <td>Plywood</td>\n",
              "      <td>Plywood</td>\n",
              "      <td>...</td>\n",
              "      <td>Pave</td>\n",
              "      <td>7</td>\n",
              "      <td>1</td>\n",
              "      <td>1974</td>\n",
              "      <td>3</td>\n",
              "      <td>1</td>\n",
              "      <td>0</td>\n",
              "      <td>0</td>\n",
              "      <td>0</td>\n",
              "      <td>0</td>\n",
              "    </tr>\n",
              "    <tr>\n",
              "      <th>2009-01-01</th>\n",
              "      <td>2000</td>\n",
              "      <td>4</td>\n",
              "      <td>1</td>\n",
              "      <td>1</td>\n",
              "      <td>1</td>\n",
              "      <td>SBrkr</td>\n",
              "      <td>1</td>\n",
              "      <td>Gd</td>\n",
              "      <td>Plywood</td>\n",
              "      <td>Wd Sdng</td>\n",
              "      <td>...</td>\n",
              "      <td>Pave</td>\n",
              "      <td>9</td>\n",
              "      <td>1</td>\n",
              "      <td>1972</td>\n",
              "      <td>4</td>\n",
              "      <td>1</td>\n",
              "      <td>0</td>\n",
              "      <td>0</td>\n",
              "      <td>0</td>\n",
              "      <td>0</td>\n",
              "    </tr>\n",
              "    <tr>\n",
              "      <th>2009-01-01</th>\n",
              "      <td>945</td>\n",
              "      <td>3</td>\n",
              "      <td>1</td>\n",
              "      <td>1</td>\n",
              "      <td>1</td>\n",
              "      <td>SBrkr</td>\n",
              "      <td>1</td>\n",
              "      <td>TA</td>\n",
              "      <td>VinylSd</td>\n",
              "      <td>VinylSd</td>\n",
              "      <td>...</td>\n",
              "      <td>Pave</td>\n",
              "      <td>7</td>\n",
              "      <td>1</td>\n",
              "      <td>1997</td>\n",
              "      <td>3</td>\n",
              "      <td>1</td>\n",
              "      <td>0</td>\n",
              "      <td>0</td>\n",
              "      <td>0</td>\n",
              "      <td>0</td>\n",
              "    </tr>\n",
              "    <tr>\n",
              "      <th>2009-01-01</th>\n",
              "      <td>1008</td>\n",
              "      <td>4</td>\n",
              "      <td>1</td>\n",
              "      <td>1</td>\n",
              "      <td>1</td>\n",
              "      <td>SBrkr</td>\n",
              "      <td>1</td>\n",
              "      <td>Gd</td>\n",
              "      <td>VinylSd</td>\n",
              "      <td>VinylSd</td>\n",
              "      <td>...</td>\n",
              "      <td>Pave</td>\n",
              "      <td>9</td>\n",
              "      <td>1</td>\n",
              "      <td>2003</td>\n",
              "      <td>3</td>\n",
              "      <td>1</td>\n",
              "      <td>0</td>\n",
              "      <td>0</td>\n",
              "      <td>0</td>\n",
              "      <td>0</td>\n",
              "    </tr>\n",
              "  </tbody>\n",
              "</table>\n",
              "<p>5 rows × 46 columns</p>\n",
              "</div>\n",
              "    <div class=\"colab-df-buttons\">\n",
              "\n",
              "  <div class=\"colab-df-container\">\n",
              "    <button class=\"colab-df-convert\" onclick=\"convertToInteractive('df-0c454eb6-1d2a-47a0-b079-c0999418c4ab')\"\n",
              "            title=\"Convert this dataframe to an interactive table.\"\n",
              "            style=\"display:none;\">\n",
              "\n",
              "  <svg xmlns=\"http://www.w3.org/2000/svg\" height=\"24px\" viewBox=\"0 -960 960 960\">\n",
              "    <path d=\"M120-120v-720h720v720H120Zm60-500h600v-160H180v160Zm220 220h160v-160H400v160Zm0 220h160v-160H400v160ZM180-400h160v-160H180v160Zm440 0h160v-160H620v160ZM180-180h160v-160H180v160Zm440 0h160v-160H620v160Z\"/>\n",
              "  </svg>\n",
              "    </button>\n",
              "\n",
              "  <style>\n",
              "    .colab-df-container {\n",
              "      display:flex;\n",
              "      gap: 12px;\n",
              "    }\n",
              "\n",
              "    .colab-df-convert {\n",
              "      background-color: #E8F0FE;\n",
              "      border: none;\n",
              "      border-radius: 50%;\n",
              "      cursor: pointer;\n",
              "      display: none;\n",
              "      fill: #1967D2;\n",
              "      height: 32px;\n",
              "      padding: 0 0 0 0;\n",
              "      width: 32px;\n",
              "    }\n",
              "\n",
              "    .colab-df-convert:hover {\n",
              "      background-color: #E2EBFA;\n",
              "      box-shadow: 0px 1px 2px rgba(60, 64, 67, 0.3), 0px 1px 3px 1px rgba(60, 64, 67, 0.15);\n",
              "      fill: #174EA6;\n",
              "    }\n",
              "\n",
              "    .colab-df-buttons div {\n",
              "      margin-bottom: 4px;\n",
              "    }\n",
              "\n",
              "    [theme=dark] .colab-df-convert {\n",
              "      background-color: #3B4455;\n",
              "      fill: #D2E3FC;\n",
              "    }\n",
              "\n",
              "    [theme=dark] .colab-df-convert:hover {\n",
              "      background-color: #434B5C;\n",
              "      box-shadow: 0px 1px 3px 1px rgba(0, 0, 0, 0.15);\n",
              "      filter: drop-shadow(0px 1px 2px rgba(0, 0, 0, 0.3));\n",
              "      fill: #FFFFFF;\n",
              "    }\n",
              "  </style>\n",
              "\n",
              "    <script>\n",
              "      const buttonEl =\n",
              "        document.querySelector('#df-0c454eb6-1d2a-47a0-b079-c0999418c4ab button.colab-df-convert');\n",
              "      buttonEl.style.display =\n",
              "        google.colab.kernel.accessAllowed ? 'block' : 'none';\n",
              "\n",
              "      async function convertToInteractive(key) {\n",
              "        const element = document.querySelector('#df-0c454eb6-1d2a-47a0-b079-c0999418c4ab');\n",
              "        const dataTable =\n",
              "          await google.colab.kernel.invokeFunction('convertToInteractive',\n",
              "                                                    [key], {});\n",
              "        if (!dataTable) return;\n",
              "\n",
              "        const docLinkHtml = 'Like what you see? Visit the ' +\n",
              "          '<a target=\"_blank\" href=https://colab.research.google.com/notebooks/data_table.ipynb>data table notebook</a>'\n",
              "          + ' to learn more about interactive tables.';\n",
              "        element.innerHTML = '';\n",
              "        dataTable['output_type'] = 'display_data';\n",
              "        await google.colab.output.renderOutput(dataTable, element);\n",
              "        const docLink = document.createElement('div');\n",
              "        docLink.innerHTML = docLinkHtml;\n",
              "        element.appendChild(docLink);\n",
              "      }\n",
              "    </script>\n",
              "  </div>\n",
              "\n",
              "\n",
              "<div id=\"df-a2336738-0664-4c42-b5c0-fcbf680c020e\">\n",
              "  <button class=\"colab-df-quickchart\" onclick=\"quickchart('df-a2336738-0664-4c42-b5c0-fcbf680c020e')\"\n",
              "            title=\"Suggest charts.\"\n",
              "            style=\"display:none;\">\n",
              "\n",
              "<svg xmlns=\"http://www.w3.org/2000/svg\" height=\"24px\"viewBox=\"0 0 24 24\"\n",
              "     width=\"24px\">\n",
              "    <g>\n",
              "        <path d=\"M19 3H5c-1.1 0-2 .9-2 2v14c0 1.1.9 2 2 2h14c1.1 0 2-.9 2-2V5c0-1.1-.9-2-2-2zM9 17H7v-7h2v7zm4 0h-2V7h2v10zm4 0h-2v-4h2v4z\"/>\n",
              "    </g>\n",
              "</svg>\n",
              "  </button>\n",
              "\n",
              "<style>\n",
              "  .colab-df-quickchart {\n",
              "      --bg-color: #E8F0FE;\n",
              "      --fill-color: #1967D2;\n",
              "      --hover-bg-color: #E2EBFA;\n",
              "      --hover-fill-color: #174EA6;\n",
              "      --disabled-fill-color: #AAA;\n",
              "      --disabled-bg-color: #DDD;\n",
              "  }\n",
              "\n",
              "  [theme=dark] .colab-df-quickchart {\n",
              "      --bg-color: #3B4455;\n",
              "      --fill-color: #D2E3FC;\n",
              "      --hover-bg-color: #434B5C;\n",
              "      --hover-fill-color: #FFFFFF;\n",
              "      --disabled-bg-color: #3B4455;\n",
              "      --disabled-fill-color: #666;\n",
              "  }\n",
              "\n",
              "  .colab-df-quickchart {\n",
              "    background-color: var(--bg-color);\n",
              "    border: none;\n",
              "    border-radius: 50%;\n",
              "    cursor: pointer;\n",
              "    display: none;\n",
              "    fill: var(--fill-color);\n",
              "    height: 32px;\n",
              "    padding: 0;\n",
              "    width: 32px;\n",
              "  }\n",
              "\n",
              "  .colab-df-quickchart:hover {\n",
              "    background-color: var(--hover-bg-color);\n",
              "    box-shadow: 0 1px 2px rgba(60, 64, 67, 0.3), 0 1px 3px 1px rgba(60, 64, 67, 0.15);\n",
              "    fill: var(--button-hover-fill-color);\n",
              "  }\n",
              "\n",
              "  .colab-df-quickchart-complete:disabled,\n",
              "  .colab-df-quickchart-complete:disabled:hover {\n",
              "    background-color: var(--disabled-bg-color);\n",
              "    fill: var(--disabled-fill-color);\n",
              "    box-shadow: none;\n",
              "  }\n",
              "\n",
              "  .colab-df-spinner {\n",
              "    border: 2px solid var(--fill-color);\n",
              "    border-color: transparent;\n",
              "    border-bottom-color: var(--fill-color);\n",
              "    animation:\n",
              "      spin 1s steps(1) infinite;\n",
              "  }\n",
              "\n",
              "  @keyframes spin {\n",
              "    0% {\n",
              "      border-color: transparent;\n",
              "      border-bottom-color: var(--fill-color);\n",
              "      border-left-color: var(--fill-color);\n",
              "    }\n",
              "    20% {\n",
              "      border-color: transparent;\n",
              "      border-left-color: var(--fill-color);\n",
              "      border-top-color: var(--fill-color);\n",
              "    }\n",
              "    30% {\n",
              "      border-color: transparent;\n",
              "      border-left-color: var(--fill-color);\n",
              "      border-top-color: var(--fill-color);\n",
              "      border-right-color: var(--fill-color);\n",
              "    }\n",
              "    40% {\n",
              "      border-color: transparent;\n",
              "      border-right-color: var(--fill-color);\n",
              "      border-top-color: var(--fill-color);\n",
              "    }\n",
              "    60% {\n",
              "      border-color: transparent;\n",
              "      border-right-color: var(--fill-color);\n",
              "    }\n",
              "    80% {\n",
              "      border-color: transparent;\n",
              "      border-right-color: var(--fill-color);\n",
              "      border-bottom-color: var(--fill-color);\n",
              "    }\n",
              "    90% {\n",
              "      border-color: transparent;\n",
              "      border-bottom-color: var(--fill-color);\n",
              "    }\n",
              "  }\n",
              "</style>\n",
              "\n",
              "  <script>\n",
              "    async function quickchart(key) {\n",
              "      const quickchartButtonEl =\n",
              "        document.querySelector('#' + key + ' button');\n",
              "      quickchartButtonEl.disabled = true;  // To prevent multiple clicks.\n",
              "      quickchartButtonEl.classList.add('colab-df-spinner');\n",
              "      try {\n",
              "        const charts = await google.colab.kernel.invokeFunction(\n",
              "            'suggestCharts', [key], {});\n",
              "      } catch (error) {\n",
              "        console.error('Error during call to suggestCharts:', error);\n",
              "      }\n",
              "      quickchartButtonEl.classList.remove('colab-df-spinner');\n",
              "      quickchartButtonEl.classList.add('colab-df-quickchart-complete');\n",
              "    }\n",
              "    (() => {\n",
              "      let quickchartButtonEl =\n",
              "        document.querySelector('#df-a2336738-0664-4c42-b5c0-fcbf680c020e button');\n",
              "      quickchartButtonEl.style.display =\n",
              "        google.colab.kernel.accessAllowed ? 'block' : 'none';\n",
              "    })();\n",
              "  </script>\n",
              "</div>\n",
              "    </div>\n",
              "  </div>\n"
            ]
          },
          "metadata": {},
          "execution_count": 4
        }
      ],
      "source": [
        "# Runs the data assinged to filepath through the function above\n",
        "df = wrangle(filepath)\n",
        "\n",
        "# Display top 5 rows to give a little peak\n",
        "df.head()\n"
      ]
    },
    {
      "cell_type": "code",
      "execution_count": 5,
      "metadata": {
        "deletable": false,
        "nbgrader": {
          "cell_type": "code",
          "checksum": "894e735ac4bb5911d536ee8852c2111f",
          "grade": false,
          "grade_id": "cell-8ee63eed57f965ea",
          "locked": false,
          "schema_version": 3,
          "solution": true,
          "task": false
        },
        "colab": {
          "base_uri": "https://localhost:8080/",
          "height": 472
        },
        "id": "lQk060JbPWG1",
        "outputId": "f719c7d8-1eb6-48f2-e6aa-5d9d4bb453c8"
      },
      "outputs": [
        {
          "output_type": "display_data",
          "data": {
            "text/plain": [
              "<Figure size 640x480 with 1 Axes>"
            ],
            "image/png": "[encoded data removed]"
          },
          "metadata": {}
        }
      ],
      "source": [
        "# Visual of plotting sale price to the ground living area\n",
        "plt.scatter(x= df['Gr_Liv_Area'], y=df['SalePrice'], c='green')\n",
        "\n",
        "# Labels\n",
        "plt.xlabel('Ground Living Area')\n",
        "plt.ylabel('Sale Price')\n",
        "\n",
        "# Display plot\n",
        "plt.title('Aimes, Iowa: Price of GLA');\n"
      ]
    },
    {
      "cell_type": "markdown",
      "metadata": {
        "deletable": false,
        "editable": false,
        "nbgrader": {
          "cell_type": "markdown",
          "checksum": "8c8dd11e8a0388b018d59e6aca553ab6",
          "grade": false,
          "grade_id": "cell-17226b293bcb9e54",
          "locked": true,
          "schema_version": 3,
          "solution": false,
          "task": false
        },
        "id": "SXs35eJSPWG1"
      },
      "source": [
        "# Split Data\n",
        "\n",
        "Predicting the price at which a house will be sold."
      ]
    },
    {
      "cell_type": "code",
      "execution_count": 6,
      "metadata": {
        "deletable": false,
        "nbgrader": {
          "cell_type": "code",
          "checksum": "9a2ebca053c8701207fd5db749e36d0a",
          "grade": false,
          "grade_id": "cell-4207f17d2e629cbd",
          "locked": false,
          "schema_version": 3,
          "solution": true,
          "task": false
        },
        "id": "5H3gRnVePWG1",
        "colab": {
          "base_uri": "https://localhost:8080/"
        },
        "outputId": "ad6e636b-7632-47f4-d2bb-77cfe58eaae8"
      },
      "outputs": [
        {
          "output_type": "execute_result",
          "data": {
            "text/plain": [
              "(2564,)"
            ]
          },
          "metadata": {},
          "execution_count": 6
        }
      ],
      "source": [
        "target = 'SalePrice'\n",
        "\n",
        "X = df.drop(columns=target)\n",
        "y = df[target]\n",
        "X.shape # (2564, 45)\n",
        "y.shape # (2564,)"
      ]
    },
    {
      "cell_type": "markdown",
      "metadata": {
        "deletable": false,
        "editable": false,
        "nbgrader": {
          "cell_type": "markdown",
          "checksum": "94fa1718a8d544efd9740e055eed9dee",
          "grade": false,
          "grade_id": "cell-708c2f8aa9bebfa1",
          "locked": true,
          "schema_version": 3,
          "solution": false,
          "task": false
        },
        "id": "Rc2BDu9-PWG2"
      },
      "source": [
        "# Training and Validation\n",
        "Splitting `X` and `y` into training and validation sets. Since housing prices fluctuate over time, I will use a time-based cutoff method.\n",
        "\n",
        "Training: Homes sold before 2009\n",
        "\n",
        "Validation: Homes sold during 2009"
      ]
    },
    {
      "cell_type": "code",
      "execution_count": 7,
      "metadata": {
        "deletable": false,
        "nbgrader": {
          "cell_type": "code",
          "checksum": "11d8d6d6ef1622e19b0e405523389c0e",
          "grade": false,
          "grade_id": "cell-2efa29975d55a10c",
          "locked": false,
          "schema_version": 3,
          "solution": true,
          "task": false
        },
        "id": "yCVuBTCrPWG3"
      },
      "outputs": [],
      "source": [
        "# Set time to divide before and after\n",
        "cuttoff = '2009'\n",
        "\n",
        "# Sold before '2009' variable\n",
        "mask = X.index < cuttoff\n",
        "\n",
        "# Training\n",
        "X_train, y_train = X.loc[mask], y.loc[mask]\n",
        "\n",
        "# Validation          '~' is used to invert the mask\n",
        "X_val , y_val = X.loc[~mask], y.loc[~mask]"
      ]
    },
    {
      "cell_type": "markdown",
      "metadata": {
        "deletable": false,
        "editable": false,
        "nbgrader": {
          "cell_type": "markdown",
          "checksum": "d6a8d57a5e0f00b03dcc7127d385fef3",
          "grade": false,
          "grade_id": "cell-63da195f83201124",
          "locked": true,
          "schema_version": 3,
          "solution": false,
          "task": false
        },
        "id": "xmSHI6hyPWG3"
      },
      "source": [
        "# Setting Baseline\n",
        "\n",
        "Before creating a model to predict the sale price, I will establish a baseline. Calculating the mean housing price of the training set and calculate the *mean absolute error* for a model that always predicts that mean."
      ]
    },
    {
      "cell_type": "code",
      "execution_count": 8,
      "metadata": {
        "deletable": false,
        "nbgrader": {
          "cell_type": "code",
          "checksum": "6bd6e555eb003bc08b8ff2ef2f8bc087",
          "grade": false,
          "grade_id": "cell-62dc6e7707644a97",
          "locked": false,
          "schema_version": 3,
          "solution": true,
          "task": false
        },
        "colab": {
          "base_uri": "https://localhost:8080/"
        },
        "id": "GsbrfsWZPWG4",
        "outputId": "3377e66f-b0f8-41de-8edb-ca3933901880"
      },
      "outputs": [
        {
          "output_type": "stream",
          "name": "stdout",
          "text": [
            "Baseline MAE: 58694.8741898506\n"
          ]
        }
      ],
      "source": [
        "# Training mean\n",
        "y.mean()\n",
        "\n",
        "# Predicted mean\n",
        "y_pred = [y.mean()] * len(y)\n",
        "\n",
        "# Baseline mean\n",
        "baseline_mae = mean_absolute_error(y, y_pred)\n",
        "print('Baseline MAE:', baseline_mae)"
      ]
    },
    {
      "cell_type": "markdown",
      "source": [
        "## Building Models\n",
        "* linear and ridge regression"
      ],
      "metadata": {
        "id": "syozDYI98_Di"
      }
    },
    {
      "cell_type": "markdown",
      "metadata": {
        "deletable": false,
        "editable": false,
        "nbgrader": {
          "cell_type": "markdown",
          "checksum": "07eabd28839601f0c7a2f98893681016",
          "grade": false,
          "grade_id": "cell-63b7627f91c1e767",
          "locked": true,
          "schema_version": 3,
          "solution": false,
          "task": false
        },
        "id": "0TBNpqE5PWG4"
      },
      "source": [
        "\n",
        "# linear regression model"
      ]
    },
    {
      "cell_type": "code",
      "execution_count": 9,
      "metadata": {
        "deletable": false,
        "nbgrader": {
          "cell_type": "code",
          "checksum": "3236c609a2729c303682be55af187cb2",
          "grade": false,
          "grade_id": "cell-b80a918d2acd5e24",
          "locked": false,
          "schema_version": 3,
          "solution": true,
          "task": false
        },
        "id": "5xajNj7sPWG5"
      },
      "outputs": [],
      "source": [
        "# Creating a Linear Regression model\n",
        "  # OneHotEncoder to catergorical features\n",
        "  # StandardScaler to compare model coefficients after training\n",
        "  # make_pipeline that combines transformers and predictor\n",
        "model_lr = make_pipeline(OneHotEncoder(use_cat_names=True),SimpleImputer(),StandardScaler(),LinearRegression())\n",
        "\n",
        "# Fit training set to model\n",
        "model_lr.fit(X_train, y_train);\n"
      ]
    },
    {
      "cell_type": "markdown",
      "metadata": {
        "deletable": false,
        "editable": false,
        "nbgrader": {
          "cell_type": "markdown",
          "checksum": "7a6a411b3833aaf17296afc3f2c6f29c",
          "grade": false,
          "grade_id": "cell-6a4782a94cdea347",
          "locked": true,
          "schema_version": 3,
          "solution": false,
          "task": false
        },
        "id": "fvSLsnRZPWG6"
      },
      "source": [
        "# Ridge regression model\n"
      ]
    },
    {
      "cell_type": "code",
      "execution_count": 10,
      "metadata": {
        "deletable": false,
        "nbgrader": {
          "cell_type": "code",
          "checksum": "46bcd5b6c64f4a1ae928ef1acd3b9de9",
          "grade": false,
          "grade_id": "cell-02455b6368014e2e",
          "locked": false,
          "schema_version": 3,
          "solution": true,
          "task": false
        },
        "id": "ymX4KXC-PWG6"
      },
      "outputs": [],
      "source": [
        "# Creating a Ridge Regression model\n",
        "  # OneHotEncoder to catergorical features\n",
        "  # StandardScaler to compare model coefficients after training\n",
        "  # make_pipeline that combines transformers and predictor\n",
        "model_r = make_pipeline(OneHotEncoder(use_cat_names=True),SimpleImputer(),StandardScaler(),Ridge())\n",
        "model_r.fit(X_train, y_train);"
      ]
    },
    {
      "cell_type": "markdown",
      "metadata": {
        "deletable": false,
        "editable": false,
        "nbgrader": {
          "cell_type": "markdown",
          "checksum": "4d39f90747ab640c15dba634dc5ddfb0",
          "grade": false,
          "grade_id": "cell-cb2403e89e718a6d",
          "locked": true,
          "schema_version": 3,
          "solution": false,
          "task": false
        },
        "id": "QXgy2LdYPWG7"
      },
      "source": [
        "# Check Metrics of Models\n",
        "\n",
        "Comparing both models by calculating their mean absolute error for the training and validation sets."
      ]
    },
    {
      "cell_type": "code",
      "execution_count": 11,
      "metadata": {
        "deletable": false,
        "nbgrader": {
          "cell_type": "code",
          "checksum": "0c2faccf61831b14df7ab3c03e64a33b",
          "grade": false,
          "grade_id": "cell-10ea192c7e6ee9de",
          "locked": false,
          "schema_version": 3,
          "solution": true,
          "task": false
        },
        "colab": {
          "base_uri": "https://localhost:8080/"
        },
        "id": "oQqo7YZ1PWG7",
        "outputId": "3949281d-6040-4f4b-ce56-9720d747e80a"
      },
      "outputs": [
        {
          "output_type": "stream",
          "name": "stdout",
          "text": [
            "Linear Regression Model\n",
            "Training MAE: 16582.997283169407\n",
            "Validation MAE: 153873874110529.4\n",
            "\n",
            "Ridge Regression Model\n",
            "Training MAE: 16512.232716376722\n",
            "Validation MAE: 18228.82097672014\n"
          ]
        }
      ],
      "source": [
        "# Gathering mean absolute error for both train and validation through both models\n",
        "model_lr_training_mae = mean_absolute_error(y_train, model_lr.predict(X_train))\n",
        "model_lr_validation_mae = mean_absolute_error(y_val, model_lr.predict(X_val))\n",
        "model_r_training_mae = mean_absolute_error(y_train, model_r.predict(X_train))\n",
        "model_r_validation_mae = mean_absolute_error(y_val, model_r.predict(X_val))\n",
        "\n",
        "print('Linear Regression Model')\n",
        "print('Training MAE:', model_lr_training_mae)\n",
        "print('Validation MAE:', model_lr_validation_mae)\n",
        "print()\n",
        "print('Ridge Regression Model')\n",
        "print('Training MAE:', model_r_training_mae)\n",
        "print('Validation MAE:', model_r_validation_mae)"
      ]
    },
    {
      "cell_type": "markdown",
      "metadata": {
        "deletable": false,
        "editable": false,
        "nbgrader": {
          "cell_type": "markdown",
          "checksum": "cfd848fa6845b865766fdacba122f739",
          "grade": false,
          "grade_id": "cell-0299e563a01e1b52",
          "locked": true,
          "schema_version": 3,
          "solution": false,
          "task": false
        },
        "id": "T5TVb4ahPWG8"
      },
      "source": [
        "# Comparing the two models by calculating their $R^2$ score."
      ]
    },
    {
      "cell_type": "code",
      "execution_count": 22,
      "metadata": {
        "deletable": false,
        "nbgrader": {
          "cell_type": "code",
          "checksum": "194fd47bb0c692386205a20dce6d0ebd",
          "grade": false,
          "grade_id": "cell-92d55f4de3bb7f31",
          "locked": false,
          "schema_version": 3,
          "solution": true,
          "task": false
        },
        "colab": {
          "base_uri": "https://localhost:8080/"
        },
        "id": "LFs1kyUGPWG8",
        "outputId": "351f35e6-1da5-40ae-9ba8-9b4988443a02"
      },
      "outputs": [
        {
          "output_type": "stream",
          "name": "stdout",
          "text": [
            "Linear Regression R^2: -2.3258886226573693e+21\n",
            "Ridge Regression R^2: 0.8911998540784543\n"
          ]
        }
      ],
      "source": [
        "# Comparing the R^2 score\n",
        "# Seeing how well each fit their model\n",
        "model_lr_r2_score = model_lr.score(X_val, y_val)\n",
        "model_r_r2_score = model_r.score(X_val, y_val)\n",
        "print('Linear Regression R^2:', model_lr_r2_score)\n",
        "print('Ridge Regression R^2:', model_r_r2_score)"
      ]
    },
    {
      "cell_type": "markdown",
      "metadata": {
        "id": "rcOURpYePWG9"
      },
      "source": [
        "# Moving forward with the data set that fit the rdige model.\n"
      ]
    },
    {
      "cell_type": "code",
      "source": [
        "def wrangle(filepath):\n",
        "  X_test = pd.read_csv(filepath, parse_dates=['Yr_Sold'], index_col='Yr_Sold')\n",
        "\n",
        "\n",
        "  X_test['Total_Baths'] = (X_test['Half_Bath'] + X_test['Bsmt_Full_Bath'] + X_test['Full_Bath'] +X_test['Bsmt_Half_Bath']).astype(int)\n",
        "\n",
        "  #onehotenc\n",
        "  building_type = ['1Fam','TwnhsE','Duplex','Twnhs','2fmCon']\n",
        "  for b in building_type:\n",
        "    X_test[b] = X_test['Bldg_Type'].str.contains(b).astype(int)\n",
        "\n",
        "  #binary columns\n",
        "  X_test['Central_Air'] = X_test['Central_Air'].apply(lambda x: 1 if x ==\"Y\" else 0)\n",
        "  X_test['Utilities'] = X_test['Utilities'].apply(lambda x: 1 if x ==\"AllPub\" else 0)\n",
        "  X_test['Exter_Cond'] = X_test['Exter_Cond'].apply(lambda x: 1 if x ==\"TA\" else 0)\n",
        "  X_test['Condition_1'] = X_test['Condition_1'].apply(lambda x: 1 if x ==\"Norm\" else 0)\n",
        "  X_test['Condition_2'] = X_test['Condition_2'].apply(lambda x: 1 if x ==\"Norm\" else 0)\n",
        "\n",
        "  #drop baths and other high cardinality categoricals\n",
        "  X_test = X_test.drop(columns = ['Half_Bath','Bsmt_Full_Bath','Full_Bath','Bsmt_Half_Bath','Bldg_Type','Year_Remod/Add'])\n",
        "\n",
        "  return X_test\n",
        "\n",
        "\n",
        "filepath = 'https://drive.google.com/uc?export=download&id=1y9u8cOWprTjruw8E-ct1c7YaEytToqd_'"
      ],
      "metadata": {
        "id": "fMjWTOOxG3dZ"
      },
      "execution_count": 24,
      "outputs": []
    },
    {
      "cell_type": "code",
      "source": [
        "url_test_labels = 'https://drive.google.com/uc?export=download&id=1DryzPm9B0qIqdxokx5m6rxu8o0Z2nBrP'\n",
        "y_test = pd.read_csv(url_test_labels)"
      ],
      "metadata": {
        "id": "xhTpY1NhPqBh"
      },
      "execution_count": 25,
      "outputs": []
    },
    {
      "cell_type": "code",
      "execution_count": 26,
      "metadata": {
        "deletable": false,
        "nbgrader": {
          "cell_type": "code",
          "checksum": "e72becd77504ec4f4855ef07c4b7edfb",
          "grade": false,
          "grade_id": "cell-87695ab01935fdd9",
          "locked": false,
          "schema_version": 3,
          "solution": true,
          "task": false
        },
        "colab": {
          "base_uri": "https://localhost:8080/"
        },
        "id": "iMRX-LAAPWG9",
        "outputId": "17e3be2b-4e36-4a0c-88a4-927a49c5097a"
      },
      "outputs": [
        {
          "output_type": "stream",
          "name": "stdout",
          "text": [
            "My predictions: [213586.46772845 113234.15629015 168217.77713118]\n"
          ]
        }
      ],
      "source": [
        "\n",
        "X_test = wrangle(filepath)\n",
        "\n",
        "\n",
        "y_pred = model_r.predict(X_test)\n",
        "\n",
        "print('My predictions:', y_pred[:3])"
      ]
    },
    {
      "cell_type": "markdown",
      "metadata": {
        "deletable": false,
        "editable": false,
        "nbgrader": {
          "cell_type": "markdown",
          "checksum": "d844c40823ca7038b76494524f632bd8",
          "grade": false,
          "grade_id": "cell-e724aba3fc221134",
          "locked": true,
          "schema_version": 3,
          "solution": false,
          "task": false
        },
        "id": "v9quzv6HPWG-"
      },
      "source": [
        "# A horizontal barchart for the best performing model that shows the ten most important features for the model's predictions.\n"
      ]
    },
    {
      "cell_type": "code",
      "execution_count": 30,
      "metadata": {
        "deletable": false,
        "nbgrader": {
          "cell_type": "code",
          "checksum": "22360b5fca505bd10654fae809bf2797",
          "grade": false,
          "grade_id": "cell-ebd0b1ea2eab31c6",
          "locked": false,
          "schema_version": 3,
          "solution": true,
          "task": false
        },
        "id": "_3fZYq5PPWG-",
        "colab": {
          "base_uri": "https://localhost:8080/",
          "height": 449
        },
        "outputId": "afdc5e59-9435-42b8-beea-d9c8521d5ab7"
      },
      "outputs": [
        {
          "output_type": "display_data",
          "data": {
            "text/plain": [
              "<Figure size 640x480 with 1 Axes>"
            ],
            "image/png": "[encoded data removed]"
          },
          "metadata": {}
        }
      ],
      "source": [
        "\n",
        "coefficents = model_lr.named_steps['linearregression'].coef_\n",
        "features = model_lr.named_steps['onehotencoder'].get_feature_names_out()\n",
        "feat_imp = pd.Series(coefficents, index=features).sort_values(key=abs)\n",
        "feat_imp.tail(10).plot(kind='barh')\n",
        "plt.xlabel('Feature Importance');\n"
      ]
    }
  ],
  "metadata": {
    "colab": {
      "provenance": []
    },
    "kernelspec": {
      "display_name": "Python 3",
      "language": "python",
      "name": "python3"
    },
    "language_info": {
      "codemirror_mode": {
        "name": "ipython",
        "version": 3
      },
      "file_extension": ".py",
      "mimetype": "text/x-python",
      "name": "python",
      "nbconvert_exporter": "python",
      "pygments_lexer": "ipython3",
      "version": "3.8.8"
    }
  },
  "nbformat": 4,
  "nbformat_minor": 0
}